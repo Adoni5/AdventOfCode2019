{
 "cells": [
  {
   "cell_type": "code",
   "execution_count": 70,
   "metadata": {},
   "outputs": [],
   "source": [
    "from collections import Counter\n",
    "range_start = 125730\n",
    "range_stop = 579381\n",
    "double_digits = [str(i)+str(i) for i in range(1,10)]\n",
    "\n",
    "def sort_and_check(a, dd):\n",
    "    b = list(str(a))\n",
    "    b.sort()\n",
    "    if b == list(str(a)):\n",
    "        if any((x in str(a)) for x in dd):\n",
    "            co = Counter(str(a))\n",
    "            if 2 in co.values():\n",
    "            \n",
    "                return True\n",
    "    return False\n",
    "\n",
    "yay = [i for i in range(range_start, range_stop) if sort_and_check(i, double_digits)]"
   ]
  },
  {
   "cell_type": "code",
   "execution_count": 71,
   "metadata": {},
   "outputs": [
    {
     "data": {
      "text/plain": [
       "1411"
      ]
     },
     "execution_count": 71,
     "metadata": {},
     "output_type": "execute_result"
    }
   ],
   "source": [
    "len(yay)"
   ]
  }
 ],
 "metadata": {
  "kernelspec": {
   "display_name": "Python 3",
   "language": "python",
   "name": "python3"
  },
  "language_info": {
   "codemirror_mode": {
    "name": "ipython",
    "version": 3
   },
   "file_extension": ".py",
   "mimetype": "text/x-python",
   "name": "python",
   "nbconvert_exporter": "python",
   "pygments_lexer": "ipython3",
   "version": "3.6.5"
  }
 },
 "nbformat": 4,
 "nbformat_minor": 2
}
