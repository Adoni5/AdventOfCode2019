{
 "cells": [
  {
   "cell_type": "code",
   "execution_count": 3,
   "metadata": {},
   "outputs": [],
   "source": [
    "line_instructions = []\n",
    "with open(\"input\", \"r\") as fh:\n",
    "    for line in fh:\n",
    "        line_instructions.append(line.strip())"
   ]
  },
  {
   "cell_type": "code",
   "execution_count": 160,
   "metadata": {},
   "outputs": [
    {
     "data": {
      "text/plain": [
       "['R1009,U993,L383,D725,R163,D312,R339,U650,R558,U384,R329,D61,L172,D555,R160,D972,L550,D801,L965,U818,L123,D530,R176,D353,L25,U694,L339,U600,L681,D37,R149,D742,R762,U869,R826,U300,L949,U978,L303,U361,R136,D343,L909,U551,R745,U913,L566,D292,R820,U886,R205,D431,L93,D71,R577,U872,L705,U510,L698,U963,R607,U527,L669,D543,R690,U954,L929,D218,R490,U500,L589,D332,R949,D538,R696,U659,L188,U468,L939,U833,L445,D430,R78,D303,R130,D649,R849,D712,L511,U745,R51,U973,R799,U829,R605,D771,L837,U204,L414,D427,R538,U116,R540,D168,R493,U900,L679,U431,L521,D500,L428,U332,L954,U717,L853,D339,L88,U807,L607,D496,L163,U468,L25,U267,L759,D898,L591,U445,L469,U531,R596,D486,L728,D677,R350,D429,R39,U568,R92,D875,L835,D841,R877,U178,L221,U88,R592,U692,R455,U693,L419,U90,R609,U672,L293,U168,R175,D456,R319,D570,R504,D165,L232,D624,L604,D68,R807,D59,R320,D281,L371,U956,L788,D897,L231,D829,R287,D798,L443,U194,R513,D925,L232,U225,L919,U563,R448,D889,R661,U852,L950,D558,L269,U186,L625,U673,L995,U732,R435,U849,L413,D690,L158,D234,R361,D458,L271,U90,L781,U754,R256,U162,L842,U927,L144,D62,R928,D238,R473,U97,L745,U303,L487,D349,L520,D31,L825,U385,L133,D948,L39,U62,R801,D664,L333,U134,R692,U385,L658,U202,L279,D374,R489,D686,L182,U222,R733,U177,R94,D603,L376,U901,R216,D851,L155,D214,L460,U758,R121,D746,L180,U175,L943,U146,L166,D251,L238,U168,L642,D341,R281,U182,R539,D416,R553,D67,L748,U272,R257,D869,L340,U180,R791,U138,L755,D976,R731,U713,R602,D284,L258,U176,R509,U46,R935,U576,R96,U89,L913,U703,R833',\n",
       " 'L1006,D998,R94,D841,R911,D381,R532,U836,L299,U237,R781,D597,L399,D800,L775,D405,L485,U636,R589,D942,L878,D779,L751,U711,L973,U410,L151,U15,L685,U417,L106,D648,L105,D461,R448,D743,L589,D430,R883,U37,R155,U350,L421,U23,R337,U816,R384,D671,R615,D410,L910,U914,L579,U385,R916,U13,R268,D519,R289,U410,L389,D885,L894,U734,L474,U707,L72,U155,L237,U760,L127,U806,L15,U381,L557,D727,L569,U320,L985,D452,L8,D884,R356,U732,L672,D458,L485,U402,L238,D30,R644,U125,R753,U183,L773,U487,R849,U210,L164,D808,L595,D668,L340,U785,R313,D72,L76,D263,R689,U604,R471,U688,R462,D915,R106,D335,R869,U499,R190,D916,R468,D882,R56,D858,L143,D741,L386,U856,R50,U853,R151,D114,L773,U854,L290,D344,L23,U796,L531,D932,R314,U960,R643,D303,L661,D493,L82,D491,L722,U848,L686,U4,L985,D509,L135,D452,R500,U105,L326,D101,R222,D944,L645,D362,L628,U305,L965,U356,L358,D137,R787,U728,R967,U404,R18,D928,L695,D965,R281,D597,L791,U731,R746,U163,L780,U41,L255,U81,L530,D964,R921,D297,R475,U663,L226,U623,L984,U943,L143,U201,R926,U572,R343,U839,R764,U751,R128,U939,R987,D108,R474,U599,R412,D248,R125,U797,L91,D761,L840,U290,L281,U779,R650,D797,R185,D320,L25,U378,L696,U332,R75,D620,L213,D667,R558,U267,L846,U306,R939,D220,R311,U827,R345,U534,R56,D679,R48,D845,R898,U8,R862,D960,R753,U319,L886,D795,R805,D265,R876,U729,R894,D368,R858,U744,R506,D327,L903,U919,L721,U507,L463,U753,R775,D719,R315,U128,R17,D376,R999,D386,L259,U181,L162,U605,L265,D430,R35,D968,R207,U466,R796,D667,R93,U749,L315,D410,R312,U929,L923,U260,R638']"
      ]
     },
     "execution_count": 160,
     "metadata": {},
     "output_type": "execute_result"
    }
   ],
   "source": [
    "line_instructions\n"
   ]
  },
  {
   "cell_type": "code",
   "execution_count": 84,
   "metadata": {},
   "outputs": [
    {
     "data": {
      "text/plain": [
       "array([ 5,  6,  7,  8,  9, 10, 11, 12, 13, 14, 15, 16, 17, 18, 19, 20, 21,\n",
       "       22, 23, 24, 25, 26, 27, 28, 29, 30, 31, 32, 33, 34, 35, 36, 37, 38,\n",
       "       39, 40, 41])"
      ]
     },
     "execution_count": 84,
     "metadata": {},
     "output_type": "execute_result"
    }
   ],
   "source": [
    "np.arange(5, 5+ 37)"
   ]
  },
  {
   "cell_type": "code",
   "execution_count": 183,
   "metadata": {},
   "outputs": [
    {
     "name": "stdout",
     "output_type": "stream",
     "text": [
      "[(0, 6), (0, 7), (0, 8)]\n"
     ]
    }
   ],
   "source": [
    "from math import*\n",
    "import numpy\n",
    "\n",
    "def manhattan_distance(x,y):\n",
    "\n",
    "    return sum(abs(a-b) for a,b in zip(x,y))\n",
    "\n",
    "cod_list = []\n",
    "\n",
    "def move_line(direction, distance, start_coord, coord_list=[]):\n",
    "    lookup = {\"R\": (0, True,1), \"U\":(1, True, 0), \"D\":(1, False, 0), \"L\":(0, False, 1)}\n",
    "    if lookup[direction][1]:\n",
    "        a = np.arange(start_coord[lookup[direction][0]]+1, start_coord[lookup[direction][0]]+1+distance)\n",
    "        b = np.repeat(start_coord[lookup[direction][2]], distance)\n",
    "        if not lookup[direction][0]:\n",
    "#             c = np.array([a, b]).T\n",
    "            c = list(zip(a , b))\n",
    "        else:\n",
    "#             c = np.array([b, a]).T\n",
    "            c = list(zip(b , a))\n",
    "        \n",
    "            \n",
    "    else:\n",
    "        a = -np.arange(1, 1+distance)\n",
    "        a += start_coord[lookup[direction][0]]\n",
    "        b = np.repeat(start_coord[lookup[direction][2]], distance)\n",
    "        if not lookup[direction][0]:\n",
    "#             c = np.array([a, b]).T\n",
    "            c = list(zip(a , b))\n",
    "        else:\n",
    "#             c = np.array([b, a]).T\n",
    "            c = list(zip(b , a))\n",
    "\n",
    "    return c\n",
    "        \n",
    "    \n",
    "        \n",
    "            \n",
    "cod_list.extend(move_line(\"U\", 3, [0,5], cod_list))\n",
    "print(cod_list)"
   ]
  },
  {
   "cell_type": "code",
   "execution_count": 186,
   "metadata": {},
   "outputs": [],
   "source": [
    "central_node = [0,0]\n",
    "coordinate_tuples = []\n",
    "computed_lines = []\n",
    "for instructions in line_instructions:\n",
    "#     print(instructions)\n",
    "    start_coordinate = central_node\n",
    "    for step in instructions.split(\",\"):\n",
    "#         print(f\"starying start_coordinate is {start_coordinate}\")\n",
    "        step_direction = step[0]\n",
    "        step_distance = int(step[1:])\n",
    "#         print(step)\n",
    "        coordinate_tuples.extend(move_line(step_direction, step_distance, start_coordinate))\n",
    "        start_coordinate = coordinate_tuples[-1]\n",
    "#         print(start_coordinate)\n",
    "    \n",
    "    computed_lines.append(coordinate_tuples)\n",
    "    coordinate_tuples = []\n",
    "        "
   ]
  },
  {
   "cell_type": "code",
   "execution_count": 187,
   "metadata": {},
   "outputs": [
    {
     "data": {
      "text/plain": [
       "list"
      ]
     },
     "execution_count": 187,
     "metadata": {},
     "output_type": "execute_result"
    }
   ],
   "source": [
    "type(computed_lines[0])"
   ]
  },
  {
   "cell_type": "code",
   "execution_count": 190,
   "metadata": {},
   "outputs": [],
   "source": [
    "a = set(computed_lines[0])\n",
    "b = set(computed_lines[1])"
   ]
  },
  {
   "cell_type": "code",
   "execution_count": 192,
   "metadata": {},
   "outputs": [],
   "source": [
    "c = a.intersection(b)"
   ]
  },
  {
   "cell_type": "code",
   "execution_count": 195,
   "metadata": {},
   "outputs": [],
   "source": [
    "intersects_man_dist = {}\n",
    "for intersection in c:\n",
    "    intersects_man_dist[intersection] = manhattan_distance(central_node, intersection)\n"
   ]
  },
  {
   "cell_type": "markdown",
   "metadata": {},
   "source": [
    "# PART 2"
   ]
  },
  {
   "cell_type": "code",
   "execution_count": 200,
   "metadata": {},
   "outputs": [
    {
     "name": "stdout",
     "output_type": "stream",
     "text": [
      "10095\n",
      "5641\n",
      "15736\n",
      "15580\n",
      "138258\n",
      "153838\n",
      "12973\n",
      "151879\n",
      "164852\n",
      "14277\n",
      "146791\n",
      "161068\n",
      "14018\n",
      "146286\n",
      "160304\n",
      "12185\n",
      "5613\n",
      "17798\n",
      "12090\n",
      "5518\n",
      "17608\n",
      "13469\n",
      "150711\n",
      "164180\n",
      "15190\n",
      "137868\n",
      "153058\n",
      "12422\n",
      "6418\n",
      "18840\n",
      "14837\n",
      "150179\n",
      "165016\n",
      "16044\n",
      "151700\n",
      "167744\n",
      "338\n",
      "154096\n",
      "154434\n",
      "14691\n",
      "146661\n",
      "161352\n",
      "15951\n",
      "151293\n",
      "167244\n",
      "10037\n",
      "5583\n",
      "15620\n",
      "13066\n",
      "151114\n",
      "164180\n",
      "14598\n",
      "146754\n",
      "161352\n",
      "13141\n",
      "153167\n",
      "166308\n",
      "9555\n",
      "7167\n",
      "16722\n",
      "13551\n",
      "152457\n",
      "166008\n",
      "10332\n",
      "6390\n",
      "16722\n",
      "11763\n",
      "6443\n",
      "18206\n"
     ]
    }
   ],
   "source": [
    "steps = []\n",
    "for key in intersects_man_dist:\n",
    "#     print(computed_lines[0].index(key))\n",
    "#     print(computed_lines[1].index(key))\n",
    "    print(computed_lines[0].index(key)+computed_lines[1].index(key) + 2)\n",
    "    steps.append()\n",
    "    \n"
   ]
  },
  {
   "cell_type": "code",
   "execution_count": 181,
   "metadata": {},
   "outputs": [
    {
     "data": {
      "text/plain": [
       "[(0, 7), (1, 8), (2, 9), (3, 10)]"
      ]
     },
     "execution_count": 181,
     "metadata": {},
     "output_type": "execute_result"
    }
   ],
   "source": [
    "list(zip(a, b))"
   ]
  },
  {
   "cell_type": "code",
   "execution_count": null,
   "metadata": {},
   "outputs": [],
   "source": []
  }
 ],
 "metadata": {
  "kernelspec": {
   "display_name": "Python 3",
   "language": "python",
   "name": "python3"
  },
  "language_info": {
   "codemirror_mode": {
    "name": "ipython",
    "version": 3
   },
   "file_extension": ".py",
   "mimetype": "text/x-python",
   "name": "python",
   "nbconvert_exporter": "python",
   "pygments_lexer": "ipython3",
   "version": "3.6.5"
  }
 },
 "nbformat": 4,
 "nbformat_minor": 2
}
