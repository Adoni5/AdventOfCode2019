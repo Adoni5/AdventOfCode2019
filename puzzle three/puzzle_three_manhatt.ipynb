{
 "cells": [
  {
   "cell_type": "code",
   "execution_count": 204,
   "metadata": {},
   "outputs": [],
   "source": [
    "line_instructions = []\n",
    "with open(\"input\", \"r\") as fh:\n",
    "    for line in fh:\n",
    "        line_instructions.append(line.strip())"
   ]
  },
  {
   "cell_type": "code",
   "execution_count": 205,
   "metadata": {},
   "outputs": [],
   "source": [
    "from math import*\n",
    "import numpy\n",
    "\n",
    "def manhattan_distance(x,y):\n",
    "    # Calculate manhattan distance\n",
    "\n",
    "    return sum(abs(a-b) for a,b in zip(x,y))\n",
    "\n",
    "\n",
    "def move_line(direction, distance, start_coord, coord_list=[]):\n",
    "    ### Draw out the line, calculating each cartesian coordinate and returning it.\n",
    "    \n",
    "    \n",
    "    ## Lookup by Direction. Tuple position 0 is which axis we are moving along, X (0) or Y (1)\n",
    "    # Tuple position 1 is whether we are increasing the axis cooridnate or decreasing\n",
    "    # Tuple position 2 is which axis remains the same. \n",
    "    \n",
    "    lookup = {\"R\": (0, True,1), \"U\":(1, True, 0), \"D\":(1, False, 0), \"L\":(0, False, 1)}\n",
    "    # If we move positively\n",
    "    if lookup[direction][1]:\n",
    "        # generate numpy arrays to merge into new coordinates \n",
    "        a = np.arange(start_coord[lookup[direction][0]]+1, start_coord[lookup[direction][0]]+1+distance)\n",
    "        b = np.repeat(start_coord[lookup[direction][2]], distance)\n",
    "        # if we are increasing X axis\n",
    "        if not lookup[direction][0]:\n",
    "        \n",
    "            c = list(zip(a , b))\n",
    "        # If we are increasing Y axis\n",
    "        else:\n",
    "            c = list(zip(b , a))\n",
    "        \n",
    "            \n",
    "    else:\n",
    "        \n",
    "        a = -np.arange(1, 1+distance)\n",
    "        a += start_coord[lookup[direction][0]]\n",
    "        b = np.repeat(start_coord[lookup[direction][2]], distance)\n",
    "        if not lookup[direction][0]:\n",
    "\n",
    "            c = list(zip(a , b))\n",
    "        else:\n",
    "\n",
    "            c = list(zip(b , a))\n",
    "\n",
    "    return c\n",
    "        "
   ]
  },
  {
   "cell_type": "code",
   "execution_count": 206,
   "metadata": {},
   "outputs": [
    {
     "name": "stdout",
     "output_type": "stream",
     "text": [
      "Shortest manhattan distance is 273\n"
     ]
    }
   ],
   "source": [
    "central_node = [0,0]\n",
    "coordinate_tuples = []\n",
    "computed_lines = []\n",
    "\n",
    "# For each wire\n",
    "for instructions in line_instructions:\n",
    "\n",
    "    start_coordinate = central_node\n",
    "    \n",
    "    for step in instructions.split(\",\"):\n",
    "        \n",
    "        step_direction = step[0]\n",
    "        step_distance = int(step[1:])\n",
    "        coordinate_tuples.extend(move_line(step_direction, step_distance, start_coordinate))\n",
    "        start_coordinate = coordinate_tuples[-1]\n",
    "\n",
    "    \n",
    "    computed_lines.append(coordinate_tuples)\n",
    "    coordinate_tuples = []\n",
    "        \n",
    "\n",
    "        \n",
    "# Intersects are where the lines cross\n",
    "a = set(computed_lines[0])\n",
    "b = set(computed_lines[1])\n",
    "c = a.intersection(b)\n",
    "intersects_man_dist = []\n",
    "\n",
    "for intersection in c:\n",
    "    intersects_man_dist.append(manhattan_distance(central_node, intersection))\n",
    "    \n",
    "intersects_man_dist.sort()\n",
    "print(f\"Shortest manhattan distance is {intersects_man_dist[0]}\")    \n"
   ]
  },
  {
   "cell_type": "markdown",
   "metadata": {},
   "source": [
    "# PART 2"
   ]
  },
  {
   "cell_type": "code",
   "execution_count": 213,
   "metadata": {},
   "outputs": [
    {
     "name": "stdout",
     "output_type": "stream",
     "text": [
      "273\n"
     ]
    },
    {
     "ename": "ValueError",
     "evalue": "The truth value of an array with more than one element is ambiguous. Use a.any() or a.all()",
     "output_type": "error",
     "traceback": [
      "\u001b[0;31m---------------------------------------------------------------------------\u001b[0m",
      "\u001b[0;31mValueError\u001b[0m                                Traceback (most recent call last)",
      "\u001b[0;32m<ipython-input-213-4abb62f5991e>\u001b[0m in \u001b[0;36m<module>\u001b[0;34m()\u001b[0m\n\u001b[1;32m      3\u001b[0m \u001b[0;32mfor\u001b[0m \u001b[0mkey\u001b[0m \u001b[0;32min\u001b[0m \u001b[0mintersects_man_dist\u001b[0m\u001b[0;34m:\u001b[0m\u001b[0;34m\u001b[0m\u001b[0m\n\u001b[1;32m      4\u001b[0m     \u001b[0mprint\u001b[0m\u001b[0;34m(\u001b[0m\u001b[0mkey\u001b[0m\u001b[0;34m)\u001b[0m\u001b[0;34m\u001b[0m\u001b[0m\n\u001b[0;32m----> 5\u001b[0;31m     \u001b[0mnum_steps\u001b[0m \u001b[0;34m=\u001b[0m \u001b[0mcomputed_lines\u001b[0m\u001b[0;34m[\u001b[0m\u001b[0;36m0\u001b[0m\u001b[0;34m]\u001b[0m\u001b[0;34m.\u001b[0m\u001b[0mindex\u001b[0m\u001b[0;34m(\u001b[0m\u001b[0mkey\u001b[0m\u001b[0;34m)\u001b[0m\u001b[0;34m+\u001b[0m\u001b[0mcomputed_lines\u001b[0m\u001b[0;34m[\u001b[0m\u001b[0;36m1\u001b[0m\u001b[0;34m]\u001b[0m\u001b[0;34m.\u001b[0m\u001b[0mindex\u001b[0m\u001b[0;34m(\u001b[0m\u001b[0mkey\u001b[0m\u001b[0;34m)\u001b[0m \u001b[0;34m+\u001b[0m \u001b[0;36m2\u001b[0m\u001b[0;34m\u001b[0m\u001b[0m\n\u001b[0m\u001b[1;32m      6\u001b[0m     \u001b[0msteps\u001b[0m\u001b[0;34m.\u001b[0m\u001b[0mappend\u001b[0m\u001b[0;34m(\u001b[0m\u001b[0mnum_steps\u001b[0m\u001b[0;34m)\u001b[0m\u001b[0;34m\u001b[0m\u001b[0m\n\u001b[1;32m      7\u001b[0m \u001b[0;34m\u001b[0m\u001b[0m\n",
      "\u001b[0;31mValueError\u001b[0m: The truth value of an array with more than one element is ambiguous. Use a.any() or a.all()"
     ]
    }
   ],
   "source": [
    "steps = []\n",
    "# Index should be the number of steps, get it for each wire\n",
    "for key in intersects_man_dist:\n",
    "    print(key)\n",
    "    num_steps = computed_lines[0].index(key)+computed_lines[1].index(key) + 2\n",
    "    steps.append(num_steps)\n",
    "    \n",
    "steps.sort()\n",
    "print(f\"Shortest steps are {steps[0]}\")\n"
   ]
  },
  {
   "cell_type": "code",
   "execution_count": 212,
   "metadata": {},
   "outputs": [
    {
     "data": {
      "text/plain": [
       "list"
      ]
     },
     "execution_count": 212,
     "metadata": {},
     "output_type": "execute_result"
    }
   ],
   "source": [
    "type(computed_lines[1])"
   ]
  },
  {
   "cell_type": "code",
   "execution_count": null,
   "metadata": {},
   "outputs": [],
   "source": []
  }
 ],
 "metadata": {
  "kernelspec": {
   "display_name": "Python 3",
   "language": "python",
   "name": "python3"
  },
  "language_info": {
   "codemirror_mode": {
    "name": "ipython",
    "version": 3
   },
   "file_extension": ".py",
   "mimetype": "text/x-python",
   "name": "python",
   "nbconvert_exporter": "python",
   "pygments_lexer": "ipython3",
   "version": "3.6.5"
  }
 },
 "nbformat": 4,
 "nbformat_minor": 2
}
