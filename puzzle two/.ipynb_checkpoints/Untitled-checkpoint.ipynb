{
 "cells": [
  {
   "cell_type": "code",
   "execution_count": 89,
   "metadata": {},
   "outputs": [],
   "source": [
    "import numpy as np"
   ]
  },
  {
   "cell_type": "code",
   "execution_count": 138,
   "metadata": {},
   "outputs": [
    {
     "name": "stdout",
     "output_type": "stream",
     "text": [
      "[  1  12   2   3   1   1   2   3   1   3   4   3   1   5   0   3   2   6\n",
      "   1  19   1  19   5  23   2  10  23  27   2  27  13  31   1  10  31  35\n",
      "   1  35   9  39   2  39  13  43   1  43   5  47   1  47   6  51   2   6\n",
      "  51  55   1   5  55  59   2   9  59  63   2   6  63  67   1  13  67  71\n",
      "   1   9  71  75   2  13  75  79   1  79  10  83   2  83   9  87   1   5\n",
      "  87  91   2  91   6  95   2  13  95  99   1  99   5 103   1 103   2 107\n",
      "   1 107  10   0  99   2   0  14   0]\n",
      "1\n",
      "2\n"
     ]
    }
   ],
   "source": [
    "a = np.loadtxt(\"input\", delimiter=\",\", dtype=np.int32).tolist()\n",
    "a[1] = 12\n",
    "a[2] = 2\n",
    "print(np.array(a))\n",
    "print(a[12])\n",
    "print(a[2])"
   ]
  },
  {
   "cell_type": "code",
   "execution_count": 147,
   "metadata": {},
   "outputs": [
    {
     "name": "stdout",
     "output_type": "stream",
     "text": [
      "[  1  12   2   3   1   1   2   3   1   3   4   3   1   5   0   3   2   6\n",
      "   1  19   1  19   5  23   2  10  23  27   2  27  13  31   1  10  31  35\n",
      "   1  35   9  39   2  39  13  43   1  43   5  47   1  47   6  51   2   6\n",
      "  51  55   1   5  55  59   2   9  59  63   2   6  63  67   1  13  67  71\n",
      "   1   9  71  75   2  13  75  79   1  79  10  83   2  83   9  87   1   5\n",
      "  87  91   2  91   6  95   2  13  95  99   1  99   5 103   1 103   2 107\n",
      "   1 107  10   0  99   2   0  14   0]\n",
      "5485\n"
     ]
    }
   ],
   "source": [
    "a = np.loadtxt(\"input\", delimiter=\",\", dtype=np.int32).tolist()\n",
    "a[1] = 12\n",
    "a[2] = 2\n",
    "print(np.array(a))\n",
    "def part_one(a, noun, verb):\n",
    "    a[1] = noun\n",
    "    a[2] = verb\n",
    "    ptr=0\n",
    "    prog = a[:]\n",
    "    while True:\n",
    "            if prog[ptr] == 1:\n",
    "                prog[prog[ptr + 3]] = prog[prog[ptr + 1]] + prog[prog[ptr + 2]]\n",
    "            elif prog[ptr] == 2:\n",
    "                prog[prog[ptr + 3]] = prog[prog[ptr + 1]] * prog[prog[ptr + 2]]\n",
    "            elif prog[ptr] == 99:\n",
    "                break\n",
    "            else:\n",
    "                print(\"SHOULDN'T HAPPEN\")\n",
    "            ptr += 4\n",
    "    return prog[0]\n",
    "    \n",
    "for i in range(100):\n",
    "    for j in range(100):\n",
    "#         print(i,j)\n",
    "        if part_one(a, i, j) == 19690720:\n",
    "            print(100*i+j)\n",
    "#             break"
   ]
  },
  {
   "cell_type": "code",
   "execution_count": null,
   "metadata": {},
   "outputs": [],
   "source": []
  },
  {
   "cell_type": "code",
   "execution_count": null,
   "metadata": {},
   "outputs": [],
   "source": []
  }
 ],
 "metadata": {
  "kernelspec": {
   "display_name": "Python 3",
   "language": "python",
   "name": "python3"
  },
  "language_info": {
   "codemirror_mode": {
    "name": "ipython",
    "version": 3
   },
   "file_extension": ".py",
   "mimetype": "text/x-python",
   "name": "python",
   "nbconvert_exporter": "python",
   "pygments_lexer": "ipython3",
   "version": "3.6.5"
  }
 },
 "nbformat": 4,
 "nbformat_minor": 2
}
